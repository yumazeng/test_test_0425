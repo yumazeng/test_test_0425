{
 "cells": [
  {
   "cell_type": "code",
   "execution_count": 1,
   "id": "78ba9321",
   "metadata": {},
   "outputs": [
    {
     "data": {
      "text/plain": [
       "[{'name': 'robert', 'chinese': 87, 'english': 92, 'math': 99},\n",
       " {'name': 'alice', 'chinese': 97, 'english': 76, 'math': 79}]"
      ]
     },
     "execution_count": 1,
     "metadata": {},
     "output_type": "execute_result"
    }
   ],
   "source": [
    "students:list = []\n",
    "students.append({\"name\":\"robert\",\n",
    "                 \"chinese\":87,\n",
    "                 \"english\":92,\n",
    "                 \"math\":99})\n",
    "students.append({\"name\":\"alice\",\n",
    "                 \"chinese\":97,\n",
    "                 \"english\":76,\n",
    "                 \"math\":79})\n",
    "students"
   ]
  },
  {
   "cell_type": "code",
   "execution_count": 5,
   "id": "28528f66",
   "metadata": {},
   "outputs": [
    {
     "name": "stdout",
     "output_type": "stream",
     "text": [
      "name:robert\n",
      "chinese:87\n",
      "english:92\n",
      "math:99\n",
      "====================\n",
      "name:alice\n",
      "chinese:97\n",
      "english:76\n",
      "math:79\n",
      "====================\n"
     ]
    }
   ],
   "source": [
    "for student in students:\n",
    "    for key,value in student.items():\n",
    "        print(key,value,sep=\":\")\n",
    "    print(\"=\"*20)"
   ]
  }
 ],
 "metadata": {
  "kernelspec": {
   "display_name": ".venv",
   "language": "python",
   "name": "python3"
  },
  "language_info": {
   "codemirror_mode": {
    "name": "ipython",
    "version": 3
   },
   "file_extension": ".py",
   "mimetype": "text/x-python",
   "name": "python",
   "nbconvert_exporter": "python",
   "pygments_lexer": "ipython3",
   "version": "3.10.8"
  }
 },
 "nbformat": 4,
 "nbformat_minor": 5
}
