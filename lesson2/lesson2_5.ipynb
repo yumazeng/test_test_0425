{
 "cells": [
  {
   "cell_type": "markdown",
   "metadata": {},
   "source": [
    "一位學生有三科成績"
   ]
  },
  {
   "cell_type": "code",
   "execution_count": 1,
   "metadata": {},
   "outputs": [
    {
     "data": {
      "text/plain": [
       "[{'name': 'robert', 'chinese': 87, 'english': 92, 'math': 99},\n",
       " {'name': 'alice', 'chinese': 97, 'english': 76, 'math': 79}]"
      ]
     },
     "execution_count": 1,
     "metadata": {},
     "output_type": "execute_result"
    }
   ],
   "source": [
    "students:list = []\n",
    "students.append({\"name\":\"robert\",\n",
    "                 \"chinese\":87,\n",
    "                 \"english\":92,\n",
    "                 \"math\":99})\n",
    "students.append({\"name\":\"alice\",\n",
    "                 \"chinese\":97,\n",
    "                 \"english\":76,\n",
    "                 \"math\":79})\n",
    "students\n"
   ]
  },
  {
   "cell_type": "code",
   "execution_count": 7,
   "metadata": {},
   "outputs": [
    {
     "data": {
      "text/plain": [
       "[{'Name': 'Amy', 'Chinese': 87, 'English': 99, 'Math': 100},\n",
       " {'Name': 'Benny', 'Chinese': 65, 'English': 95, 'Math': 86},\n",
       " {'Name': 'Calvin', 'Chinese': 67, 'English': 89, 'Math': 90},\n",
       " {'Name': 'Denny', 'Chinese': 79, 'English': 69, 'Math': 70},\n",
       " {'Name': 'Elaine', 'Chinese': 70, 'English': 90, 'Math': 100}]"
      ]
     },
     "execution_count": 7,
     "metadata": {},
     "output_type": "execute_result"
    }
   ],
   "source": [
    "students:list = []\n",
    "students.append({\"Name\":\"Amy\",\n",
    "                \"Chinese\":87,\n",
    "                \"English\":99,\n",
    "                \"Math\":100})\n",
    "students.append({\"Name\":\"Benny\",\n",
    "                \"Chinese\":65,\n",
    "                \"English\":95,\n",
    "                \"Math\":86})\n",
    "students.append({\"Name\":\"Calvin\",\n",
    "                \"Chinese\":67,\n",
    "                \"English\":89,\n",
    "                \"Math\":90})\n",
    "students.append({\"Name\":\"Denny\",\n",
    "                \"Chinese\":79,\n",
    "                \"English\":69,\n",
    "                \"Math\":70})\n",
    "students.append({\"Name\":\"Elaine\",\n",
    "                \"Chinese\":70,\n",
    "                \"English\":90,\n",
    "                \"Math\":100})\n",
    "students\n"
   ]
  },
  {
   "cell_type": "code",
   "execution_count": 8,
   "metadata": {},
   "outputs": [
    {
     "name": "stdout",
     "output_type": "stream",
     "text": [
      "Name:Amy\n",
      "Chinese:87\n",
      "English:99\n",
      "Math:100\n",
      "==================================================\n",
      "Name:Benny\n",
      "Chinese:65\n",
      "English:95\n",
      "Math:86\n",
      "==================================================\n",
      "Name:Calvin\n",
      "Chinese:67\n",
      "English:89\n",
      "Math:90\n",
      "==================================================\n",
      "Name:Denny\n",
      "Chinese:79\n",
      "English:69\n",
      "Math:70\n",
      "==================================================\n",
      "Name:Elaine\n",
      "Chinese:70\n",
      "English:90\n",
      "Math:100\n",
      "==================================================\n"
     ]
    }
   ],
   "source": [
    "for student in students:\n",
    "    for key, value in student.items():\n",
    "        print(key,value,sep=\":\")\n",
    "    print(\"=\"*50)"
   ]
  },
  {
   "cell_type": "code",
   "execution_count": 9,
   "metadata": {},
   "outputs": [
    {
     "name": "stdout",
     "output_type": "stream",
     "text": [
      "Name:Amy\n",
      "Chinese:87\n",
      "English:99\n",
      "Math:100\n",
      "====================\n",
      "Name:Benny\n",
      "Chinese:65\n",
      "English:95\n",
      "Math:86\n",
      "====================\n",
      "Name:Calvin\n",
      "Chinese:67\n",
      "English:89\n",
      "Math:90\n",
      "====================\n",
      "Name:Denny\n",
      "Chinese:79\n",
      "English:69\n",
      "Math:70\n",
      "====================\n",
      "Name:Elaine\n",
      "Chinese:70\n",
      "English:90\n",
      "Math:100\n",
      "====================\n"
     ]
    }
   ],
   "source": [
    "for student in students:\n",
    "    for key,value in student.items():\n",
    "        print(key,value,sep=\":\")\n",
    "    print(\"=\"*20)\n"
   ]
  }
 ],
 "metadata": {
  "kernelspec": {
   "display_name": ".venv",
   "language": "python",
   "name": "python3"
  },
  "language_info": {
   "codemirror_mode": {
    "name": "ipython",
    "version": 3
   },
   "file_extension": ".py",
   "mimetype": "text/x-python",
   "name": "python",
   "nbconvert_exporter": "python",
   "pygments_lexer": "ipython3",
   "version": "3.13.3"
  }
 },
 "nbformat": 4,
 "nbformat_minor": 2
}
