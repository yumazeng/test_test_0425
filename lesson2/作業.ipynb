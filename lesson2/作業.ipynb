{
 "cells": [
  {
   "cell_type": "markdown",
   "id": "0fe30711",
   "metadata": {},
   "source": [
    "1. **請讀取names.txt**\n",
    "2. **將文字儲存於list內**\n",
    "3. **每次執行可以亂數取出3個姓名**"
   ]
  },
  {
   "cell_type": "code",
   "execution_count": null,
   "id": "faaa7caa",
   "metadata": {},
   "outputs": [],
   "source": []
  },
  {
   "cell_type": "markdown",
   "id": "71d5f434",
   "metadata": {},
   "source": []
  }
 ],
 "metadata": {
  "kernelspec": {
   "display_name": ".venv",
   "language": "python",
   "name": "python3"
  },
  "language_info": {
   "name": "python",
   "version": "3.10.8"
  }
 },
 "nbformat": 4,
 "nbformat_minor": 5
}
