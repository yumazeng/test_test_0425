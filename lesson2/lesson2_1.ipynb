{
 "cells": [
  {
   "cell_type": "markdown",
   "id": "cf7157b4",
   "metadata": {},
   "source": [
    "### 呼叫function"
   ]
  },
  {
   "cell_type": "code",
   "execution_count": null,
   "id": "0a38b93d",
   "metadata": {},
   "outputs": [],
   "source": [
    "def menu(wine:str, entree:str, dessert:str)->dict:\n",
    "    return {\"wine\": wine,\n",
    "            \"entree\": entree, \n",
    "            \"desert\": dessert}\n"
   ]
  },
  {
   "cell_type": "code",
   "execution_count": null,
   "id": "a1a6141d",
   "metadata": {},
   "outputs": [
    {
     "name": "stdout",
     "output_type": "stream",
     "text": [
      "wine 白酒 entree 牛排 desert 蛋糕\n"
     ]
    },
    {
     "ename": "TypeError",
     "evalue": "menu() missing 1 required positional argument: 'dessert'",
     "output_type": "error",
     "traceback": [
      "\u001b[0;31m---------------------------------------------------------------------------\u001b[0m",
      "\u001b[0;31mTypeError\u001b[0m                                 Traceback (most recent call last)",
      "Cell \u001b[0;32mIn[6], line 3\u001b[0m\n\u001b[1;32m      1\u001b[0m \u001b[38;5;66;03m#引數值的呼叫(依照順序)\u001b[39;00m\n\u001b[1;32m      2\u001b[0m menu(\u001b[38;5;124m'\u001b[39m\u001b[38;5;124m白酒\u001b[39m\u001b[38;5;124m'\u001b[39m, \u001b[38;5;124m'\u001b[39m\u001b[38;5;124m牛排\u001b[39m\u001b[38;5;124m'\u001b[39m, \u001b[38;5;124m'\u001b[39m\u001b[38;5;124m蛋糕\u001b[39m\u001b[38;5;124m'\u001b[39m)\n\u001b[0;32m----> 3\u001b[0m \u001b[43mmenu\u001b[49m\u001b[43m(\u001b[49m\u001b[38;5;124;43m'\u001b[39;49m\u001b[38;5;124;43m白酒\u001b[39;49m\u001b[38;5;124;43m'\u001b[39;49m\u001b[43m,\u001b[49m\u001b[43m \u001b[49m\u001b[38;5;124;43m'\u001b[39;49m\u001b[38;5;124;43m牛排\u001b[39;49m\u001b[38;5;124;43m'\u001b[39;49m\u001b[43m)\u001b[49m\n",
      "\u001b[0;31mTypeError\u001b[0m: menu() missing 1 required positional argument: 'dessert'"
     ]
    }
   ],
   "source": [
    "#引數值的呼叫(依照順序)\n",
    "menu('白酒', '牛排', '蛋糕')\n",
    "#menu('白酒', '牛排') 錯誤"
   ]
  },
  {
   "cell_type": "code",
   "execution_count": null,
   "id": "d227474f",
   "metadata": {},
   "outputs": [
    {
     "data": {
      "text/plain": [
       "{'wine': '白酒', 'entree': '牛排', 'desert': '蛋糕'}"
      ]
     },
     "execution_count": 14,
     "metadata": {},
     "output_type": "execute_result"
    }
   ],
   "source": [
    "#引數值呼叫\n",
    "pk:dict = menu(\"白酒\",\"牛排\",\"蛋糕\")\n",
    "pk"
   ]
  },
  {
   "cell_type": "code",
   "execution_count": 20,
   "id": "f19d9a33",
   "metadata": {},
   "outputs": [
    {
     "data": {
      "text/plain": [
       "{'wine': '白酒', 'entree': '牛排', 'desert': '蛋糕'}"
      ]
     },
     "execution_count": 20,
     "metadata": {},
     "output_type": "execute_result"
    }
   ],
   "source": [
    "#引數名稱的呼叫(可以不依順序)\n",
    "pk:dict = menu(entree='牛排', wine='白酒', dessert='蛋糕')\n",
    "pk"
   ]
  },
  {
   "cell_type": "code",
   "execution_count": 22,
   "id": "42b72e8e",
   "metadata": {},
   "outputs": [
    {
     "data": {
      "text/plain": [
       "{'wine': '白酒', 'entree': '牛排', 'desert': '蛋糕'}"
      ]
     },
     "execution_count": 22,
     "metadata": {},
     "output_type": "execute_result"
    }
   ],
   "source": [
    "#混合呼叫\n",
    "#前面要引數值呼叫\n",
    "#後面引數名稱呼叫\n",
    "#引數名稱呼叫後,全部都要引數名稱呼叫\n",
    "\n",
    "pk:dict = menu(\"白酒\",dessert=\"蛋糕\",entree=\"牛排\")\n",
    "pk"
   ]
  },
  {
   "cell_type": "code",
   "execution_count": 24,
   "id": "9e14148d",
   "metadata": {},
   "outputs": [],
   "source": [
    "#參數有default value\n",
    "def menu(wine:str, entree:str, dessert:str='蛋糕')->dict:\n",
    "    return {\"wine\": wine,\n",
    "            \"entree\": entree, \n",
    "            \"desert\": dessert}"
   ]
  },
  {
   "cell_type": "code",
   "execution_count": null,
   "id": "5797fc0a",
   "metadata": {},
   "outputs": [
    {
     "data": {
      "text/plain": [
       "{'wine': '白酒', 'entree': '牛排', 'desert': '蛋糕'}"
      ]
     },
     "execution_count": 26,
     "metadata": {},
     "output_type": "execute_result"
    }
   ],
   "source": [
    "#呼叫時有default value的參數可以省略\n",
    "#引數值叫呼\n",
    "pk:dict = menu(\"白酒\",\"牛排\")\n",
    "pk"
   ]
  },
  {
   "cell_type": "code",
   "execution_count": 28,
   "id": "03e6ebc7",
   "metadata": {},
   "outputs": [
    {
     "data": {
      "text/plain": [
       "{'wine': '白酒', 'entree': '牛排', 'desert': '蛋糕'}"
      ]
     },
     "execution_count": 28,
     "metadata": {},
     "output_type": "execute_result"
    }
   ],
   "source": [
    "#引數名稱呼叫\n",
    "pk:dict = menu(entree='牛排', wine='白酒')\n",
    "pk"
   ]
  },
  {
   "cell_type": "code",
   "execution_count": 30,
   "id": "fd3c05b7",
   "metadata": {},
   "outputs": [
    {
     "data": {
      "text/plain": [
       "{'wine': '白酒', 'entree': '牛排', 'desert': '蛋糕'}"
      ]
     },
     "execution_count": 30,
     "metadata": {},
     "output_type": "execute_result"
    }
   ],
   "source": [
    "pk:dict = menu(\"白酒\",entree=\"牛排\")\n",
    "pk"
   ]
  },
  {
   "cell_type": "code",
   "execution_count": 31,
   "id": "be550be1",
   "metadata": {},
   "outputs": [
    {
     "data": {
      "text/plain": [
       "{'wine': '白酒', 'entree': '牛排', 'desert': '奶昔'}"
      ]
     },
     "execution_count": 31,
     "metadata": {},
     "output_type": "execute_result"
    }
   ],
   "source": [
    "pk:dict = menu(\"白酒\",entree=\"牛排\",dessert=\"奶昔\")\n",
    "pk"
   ]
  },
  {
   "cell_type": "code",
   "execution_count": 36,
   "id": "84581c67",
   "metadata": {},
   "outputs": [
    {
     "name": "stdout",
     "output_type": "stream",
     "text": [
      "1-2-3-4-5-a-b-c.\n"
     ]
    }
   ],
   "source": [
    "print(1,2,3,4,5,'a','b','c',sep='-',end='.\\n')"
   ]
  },
  {
   "cell_type": "code",
   "execution_count": 38,
   "id": "f623344a",
   "metadata": {},
   "outputs": [
    {
     "name": "stdout",
     "output_type": "stream",
     "text": [
      "1-2-3-4-5-a-b-c.....\n"
     ]
    }
   ],
   "source": [
    "print(1,2,3,4,5,'a','b','c',end='.....\\n',sep='-')"
   ]
  }
 ],
 "metadata": {
  "kernelspec": {
   "display_name": ".venv",
   "language": "python",
   "name": "python3"
  },
  "language_info": {
   "codemirror_mode": {
    "name": "ipython",
    "version": 3
   },
   "file_extension": ".py",
   "mimetype": "text/x-python",
   "name": "python",
   "nbconvert_exporter": "python",
   "pygments_lexer": "ipython3",
   "version": "3.10.8"
  }
 },
 "nbformat": 4,
 "nbformat_minor": 5
}
