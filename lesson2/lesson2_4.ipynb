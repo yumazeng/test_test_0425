{
 "cells": [
  {
   "cell_type": "markdown",
   "metadata": {},
   "source": [
    "一周七天的dict"
   ]
  },
  {
   "cell_type": "code",
   "execution_count": 1,
   "metadata": {},
   "outputs": [],
   "source": [
    "weeks:dict = {\"monday\":1,\n",
    "              \"tuesday\":2,\n",
    "               \"wednesday\":3,\n",
    "               \"thursday\":4,\n",
    "               \"friday\":5,\n",
    "               \"saturday\":6,\n",
    "               \"sunday\":7}\n"
   ]
  },
  {
   "cell_type": "code",
   "execution_count": 2,
   "metadata": {},
   "outputs": [],
   "source": [
    "weeks.get('thursday')\n",
    "weeks.get('wednesday')\n",
    "weeks.get('eight')\n"
   ]
  }
 ],
 "metadata": {
  "kernelspec": {
   "display_name": ".venv",
   "language": "python",
   "name": "python3"
  },
  "language_info": {
   "codemirror_mode": {
    "name": "ipython",
    "version": 3
   },
   "file_extension": ".py",
   "mimetype": "text/x-python",
   "name": "python",
   "nbconvert_exporter": "python",
   "pygments_lexer": "ipython3",
   "version": "3.13.3"
  }
 },
 "nbformat": 4,
 "nbformat_minor": 2
}
