{
 "cells": [
  {
   "cell_type": "code",
   "execution_count": 2,
   "id": "d477cbd0",
   "metadata": {},
   "outputs": [],
   "source": [
    "weeks:dict = {\"monday\":1,\n",
    "              \"tuesday\":2,\n",
    "               \"wednesday\":3,\n",
    "               \"thursday\":4,\n",
    "               \"friday\":5,\n",
    "               \"saturday\":6,\n",
    "               \"sunday\":7}"
   ]
  },
  {
   "cell_type": "code",
   "execution_count": 6,
   "id": "dc12ea5b",
   "metadata": {},
   "outputs": [],
   "source": [
    "weeks.get('thursday')\n",
    "weeks.get('wednesday')\n",
    "weeks.get('eight')"
   ]
  },
  {
   "cell_type": "code",
   "execution_count": 8,
   "id": "fbc6aacc",
   "metadata": {},
   "outputs": [
    {
     "data": {
      "text/plain": [
       "['monday', 'tuesday', 'wednesday', 'thursday', 'friday', 'saturday', 'sunday']"
      ]
     },
     "execution_count": 8,
     "metadata": {},
     "output_type": "execute_result"
    }
   ],
   "source": [
    "list(weeks.keys())"
   ]
  },
  {
   "cell_type": "code",
   "execution_count": 10,
   "id": "2db1908d",
   "metadata": {},
   "outputs": [
    {
     "data": {
      "text/plain": [
       "[1, 2, 3, 4, 5, 6, 7]"
      ]
     },
     "execution_count": 10,
     "metadata": {},
     "output_type": "execute_result"
    }
   ],
   "source": [
    "list(weeks.values())"
   ]
  },
  {
   "cell_type": "code",
   "execution_count": 15,
   "id": "219691cf",
   "metadata": {},
   "outputs": [
    {
     "name": "stdout",
     "output_type": "stream",
     "text": [
      "monday:1\n",
      "tuesday:2\n",
      "wednesday:3\n",
      "thursday:4\n",
      "friday:5\n",
      "saturday:6\n",
      "sunday:7\n"
     ]
    }
   ],
   "source": [
    "for (key, value) in weeks.items():\n",
    "    print(key,value,sep=\":\")"
   ]
  }
 ],
 "metadata": {
  "kernelspec": {
   "display_name": ".venv",
   "language": "python",
   "name": "python3"
  },
  "language_info": {
   "codemirror_mode": {
    "name": "ipython",
    "version": 3
   },
   "file_extension": ".py",
   "mimetype": "text/x-python",
   "name": "python",
   "nbconvert_exporter": "python",
   "pygments_lexer": "ipython3",
   "version": "3.10.8"
  }
 },
 "nbformat": 4,
 "nbformat_minor": 5
}
