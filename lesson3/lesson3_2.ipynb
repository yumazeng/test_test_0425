{
 "cells": [
  {
   "cell_type": "markdown",
   "id": "c3613803",
   "metadata": {},
   "source": [
    "# 下載internet的資源\n",
    "- 使用第3方套件(requests)"
   ]
  },
  {
   "cell_type": "code",
   "execution_count": 3,
   "id": "76f53e8a",
   "metadata": {},
   "outputs": [],
   "source": [
    "import requests\n",
    "from requests import Response\n",
    "import csv\n",
    "from io import StringIO\n",
    "\n",
    "url = 'https://data.moenv.gov.tw/api/v2/aqx_p_432?api_key=540e2ca4-41e1-4186-8497-fdd67024ac44&limit=1000&sort=ImportDate desc&format=CSV'\n",
    "response:Response = requests.get(url)\n",
    "file = StringIO(response.text) #class初始化\n",
    "csv_reader = csv.DictReader(file) #class初始化\n",
    "aqi:list = list(csv_reader) #class初始化\n"
   ]
  },
  {
   "cell_type": "code",
   "execution_count": 7,
   "id": "2ce63455",
   "metadata": {},
   "outputs": [
    {
     "name": "stdout",
     "output_type": "stream",
     "text": [
      "{'sitename': '永和', 'county': '新北市', 'aqi': '58', 'pollutant': '細懸浮微粒', 'status': '普通', 'so2': '0.5', 'co': '0.3', 'o3': '48', 'o3_8hr': '48', 'pm10': '20', 'pm2.5': '15', 'no2': '6', 'nox': '8.5', 'no': '1.6', 'wind_speed': '1.2', 'wind_direc': '155', 'publishtime': '2025/05/08 16:00:00', 'co_8hr': '0.3', 'pm2.5_avg': '15.2', 'pm10_avg': '25', 'so2_avg': '0', 'longitude': '121.516306', 'latitude': '25.017', 'siteid': '70'}\n"
     ]
    }
   ],
   "source": [
    "for item in aqi:\n",
    "    if item['sitename'] == '永和':\n",
    "        print(item)"
   ]
  },
  {
   "cell_type": "code",
   "execution_count": 10,
   "id": "410a63ad",
   "metadata": {},
   "outputs": [
    {
     "data": {
      "text/plain": [
       "list"
      ]
     },
     "execution_count": 10,
     "metadata": {},
     "output_type": "execute_result"
    }
   ],
   "source": [
    "type([1,2,3,4])\n",
    "type(list())"
   ]
  }
 ],
 "metadata": {
  "kernelspec": {
   "display_name": "flask",
   "language": "python",
   "name": "python3"
  },
  "language_info": {
   "codemirror_mode": {
    "name": "ipython",
    "version": 3
   },
   "file_extension": ".py",
   "mimetype": "text/x-python",
   "name": "python",
   "nbconvert_exporter": "python",
   "pygments_lexer": "ipython3",
   "version": "3.11.11"
  }
 },
 "nbformat": 4,
 "nbformat_minor": 5
}
