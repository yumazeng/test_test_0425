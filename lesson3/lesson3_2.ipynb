{
 "cells": [
  {
   "cell_type": "markdown",
   "metadata": {},
   "source": [
    "#下載internet的資源\n",
    "- 使用第三方套件(requests) "
   ]
  },
  {
   "cell_type": "code",
   "execution_count": null,
   "metadata": {},
   "outputs": [],
   "source": [
    "import requests\n",
    "from requests import Response\n",
    "import csv\n",
    "from io import StringIO\n",
    "\n",
    "url = 'https://data.moenv.gov.tw/api/v2/aqx_p_432?api_key=540e2ca4-41e1-4186-8497-fdd67024ac44&limit=1000&sort=ImportDate desc&format=CSV'\n",
    "response:Response = requests.get(url)\n",
    "file = StringIO(response.text)\n",
    "csv_reader = csv.DictReader(file)\n",
    "aqi:list =list(csv_reader)\n"
   ]
  },
  {
   "cell_type": "code",
   "execution_count": 8,
   "metadata": {},
   "outputs": [
    {
     "name": "stdout",
     "output_type": "stream",
     "text": [
      "{'sitename': '士林', 'county': '臺北市', 'aqi': '48', 'pollutant': '', 'status': '良好', 'so2': '1', 'co': '0.26', 'o3': '53', 'o3_8hr': '52', 'pm10': '26', 'pm2.5': '9', 'no2': '10', 'nox': '12.1', 'no': '1.3', 'wind_speed': '1.7', 'wind_direc': '336', 'publishtime': '2025/05/08 16:00:00', 'co_8hr': '0.2', 'pm2.5_avg': '9.4', 'pm10_avg': '23', 'so2_avg': '0', 'longitude': '121.51666356', 'latitude': '25.10334003', 'siteid': '11'}\n"
     ]
    }
   ],
   "source": [
    "for item in aqi:\n",
    "    if item['sitename'] == '士林':\n",
    "        print(item)"
   ]
  },
  {
   "cell_type": "code",
   "execution_count": 10,
   "metadata": {},
   "outputs": [
    {
     "data": {
      "text/plain": [
       "list"
      ]
     },
     "execution_count": 10,
     "metadata": {},
     "output_type": "execute_result"
    }
   ],
   "source": [
    "type([1,2,3,4])\n",
    "type(list())"
   ]
  }
 ],
 "metadata": {
  "kernelspec": {
   "display_name": "flask",
   "language": "python",
   "name": "python3"
  },
  "language_info": {
   "codemirror_mode": {
    "name": "ipython",
    "version": 3
   },
   "file_extension": ".py",
   "mimetype": "text/x-python",
   "name": "python",
   "nbconvert_exporter": "python",
   "pygments_lexer": "ipython3",
   "version": "3.11.11"
  }
 },
 "nbformat": 4,
 "nbformat_minor": 2
}
