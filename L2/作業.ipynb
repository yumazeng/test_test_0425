{
 "cells": [
  {
   "cell_type": "markdown",
   "metadata": {},
   "source": [
    "1. **請讀取names.txt**\n",
    "2. **將文字儲存於list內**\n",
    "3. **每次執行可以亂數取出3個名字**"
   ]
  },
  {
   "cell_type": "code",
   "execution_count": 15,
   "metadata": {},
   "outputs": [
    {
     "name": "stdout",
     "output_type": "stream",
     "text": [
      "隨機選出的三位學生：\n",
      "王雅慧\n",
      "朱士弘\n",
      "王人仰\n"
     ]
    }
   ],
   "source": [
    "import random\n",
    "\n",
    "def load_names(filename):\n",
    "    with open(filename, 'r', encoding='utf-8') as file:\n",
    "        names = [line.strip() for line in file if line.strip()]\n",
    "    return names\n",
    "\n",
    "def pick_random_names(names_list, count=3):\n",
    "    return random.sample(names_list, count)\n",
    "\n",
    "if __name__ == \"__main__\":\n",
    "    filename = 'names.txt'\n",
    "    names = load_names(filename)\n",
    "    selected_names = pick_random_names(names, 3)\n",
    "    print(\"隨機選出的三位學生：\")\n",
    "    for name in selected_names:\n",
    "        print(name)\n"
   ]
  },
  {
   "cell_type": "code",
   "execution_count": 18,
   "metadata": {},
   "outputs": [
    {
     "name": "stdout",
     "output_type": "stream",
     "text": [
      "隨機抽出的三個名字：\n",
      "陳冠霞\n",
      "楊綺芬\n",
      "鄧亭聿\n"
     ]
    }
   ],
   "source": [
    "import random\n",
    "\n",
    "# 讀取 names.txt，將每行名字存入 list\n",
    "with open('names.txt', 'r', encoding='utf-8') as file:\n",
    "    names = [line.strip() for line in file if line.strip()]  # 去除空行與換行符號\n",
    "\n",
    "# 隨機抽取 3 個不重複的名字\n",
    "random_names = random.sample(names, 3)\n",
    "\n",
    "print(\"隨機抽出的三個名字：\")\n",
    "for name in random_names:\n",
    "    print(name)\n"
   ]
  }
 ],
 "metadata": {
  "kernelspec": {
   "display_name": ".venv",
   "language": "python",
   "name": "python3"
  },
  "language_info": {
   "codemirror_mode": {
    "name": "ipython",
    "version": 3
   },
   "file_extension": ".py",
   "mimetype": "text/x-python",
   "name": "python",
   "nbconvert_exporter": "python",
   "pygments_lexer": "ipython3",
   "version": "3.13.3"
  }
 },
 "nbformat": 4,
 "nbformat_minor": 2
}
