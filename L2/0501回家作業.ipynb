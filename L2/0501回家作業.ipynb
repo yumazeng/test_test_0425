{
 "cells": [
  {
   "cell_type": "markdown",
   "metadata": {},
   "source": [
    "1. **請讀取names.txt**\n",
    "2. **將文字儲存於list內**\n",
    "3. **每次執行可以亂數取出3個名字**"
   ]
  },
  {
   "cell_type": "code",
   "execution_count": 6,
   "metadata": {},
   "outputs": [
    {
     "name": "stdout",
     "output_type": "stream",
     "text": [
      "['王柏聖', '孫宜珊', '簡國瑋']\n"
     ]
    }
   ],
   "source": [
    "import random  # 匯入random模組，用於隨機抽取\n",
    "\n",
    "# 使用with語法開啟檔案，確保使用完自動關閉檔案\n",
    "with open('names.txt', 'r', encoding='utf-8') as file:  \n",
    "    names = file.readlines()  # 讀取檔案所有行，回傳list，每行為一個元素\n",
    "\n",
    "# 去除每行文字末尾的換行符號\n",
    "names = [name.strip() for name in names]  \n",
    "\n",
    "# 從names中隨機抽取3個不重複的名字\n",
    "random_names = random.sample(names, 3)  \n",
    "\n",
    "print(random_names)\n"
   ]
  }
 ],
 "metadata": {
  "kernelspec": {
   "display_name": ".venv",
   "language": "python",
   "name": "python3"
  },
  "language_info": {
   "codemirror_mode": {
    "name": "ipython",
    "version": 3
   },
   "file_extension": ".py",
   "mimetype": "text/x-python",
   "name": "python",
   "nbconvert_exporter": "python",
   "pygments_lexer": "ipython3",
   "version": "3.13.3"
  }
 },
 "nbformat": 4,
 "nbformat_minor": 2
}
