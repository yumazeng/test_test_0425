{
 "cells": [
  {
   "cell_type": "markdown",
   "id": "7dcc25da",
   "metadata": {},
   "source": [
    "https://www.perplexity.ai/search/07cff8ec-c383-48bc-b262-a32d006d97ab"
   ]
  }
 ],
 "metadata": {
  "kernelspec": {
   "display_name": "flask",
   "language": "python",
   "name": "python3"
  },
  "language_info": {
   "name": "python",
   "version": "3.11.11"
  }
 },
 "nbformat": 4,
 "nbformat_minor": 5
}
