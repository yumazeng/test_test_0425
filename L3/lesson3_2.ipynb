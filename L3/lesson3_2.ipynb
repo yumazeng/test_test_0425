{
 "cells": [
  {
   "cell_type": "markdown",
   "metadata": {},
   "source": [
    "#下載internet的資源\n",
    "- 使用第三方套件(requests) "
   ]
  }
 ],
 "metadata": {
  "kernelspec": {
   "display_name": ".venv",
   "language": "python",
   "name": "python3"
  },
  "language_info": {
   "name": "python",
   "version": "3.13.3"
  }
 },
 "nbformat": 4,
 "nbformat_minor": 2
}
