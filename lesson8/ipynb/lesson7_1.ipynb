{
 "cells": [
  {
   "cell_type": "code",
   "execution_count": 2,
   "id": "f92d7fef",
   "metadata": {},
   "outputs": [],
   "source": [
    "import os\n",
    "from dotenv import load_dotenv\n",
    "\n",
    "# 載入 .env 檔案\n",
    "load_dotenv()\n",
    "conn_string = os.getenv('RENDER_DATABASE')"
   ]
  },
  {
   "cell_type": "code",
   "execution_count": 5,
   "id": "23e06294",
   "metadata": {},
   "outputs": [
    {
     "name": "stdout",
     "output_type": "stream",
     "text": [
      "[(1, '【公告】本學院因改建工程，自111年2月1日起至改建工程竣工期間，暫停受理停車使用申請。', datetime.date(2022, 1, 19), '公告本學院因原機工大樓及學員宿舍用地改建及先期樹木移植、變電站遷移等工程，考量院區人員及公共安全，自111年2月1日起至改建工程竣工期間，暫停受理學員、外聘與監評人員及月租車停車使用申請。'), (2, '【公告】本學院於辦理「原機工大樓及學員宿舍用地改建工程」施工期間， 考量人員及公共安全，場地暫停對外租借 並停止受理租借申請。', datetime.date(2023, 5, 8), None), (3, '[協助宣傳]114年公務人員特種考試原住民族考試，預定報名日期為 114年5月28日至6月6日止，預定考試日期為同年9月6日至 9月7日。\\n\\n', datetime.date(2025, 5, 27), '公務人員特種考試原住民族考試規則規定，自 110年1月1日起，報名原民特考應取得原住民族語言能力認 證初級以上合格證書；自113年1月1日起，報名原民特考 一、二、三等考試應取得原住民族語言能力認證中級以上 合格證書'), (4, '[協助宣導]「臺北市就業服務處114年7月28日（星期一）及7月29日（星期二）9時至12時30分假勞工教室（臺北市萬華區艋舺大道101號6樓）辦理新住民就業研習班，歡迎新住民朋友踴躍報名參加，詳情請洽：台北就業大補帖網站或電洽：23085231分機703張小姐、712楊小姐。」', datetime.date(2025, 5, 26), None), (5, '[協助宣導]新竹縣政府生物多樣性主流化系列線上演講，訂於114年5月28日、6月4日、6月11日、6月18日及6月25日上午10至12時辦理5場次', datetime.date(2025, 5, 23), None)]\n"
     ]
    }
   ],
   "source": [
    "import psycopg2\n",
    "from psycopg2 import OperationalError\n",
    "try:\n",
    "    conn = psycopg2.connect(conn_string)\n",
    "    with conn.cursor() as cur:\n",
    "        sql = \"SELECT * FROM 最新訊息\"\n",
    "        cur.execute(sql)\n",
    "        # 取得所有資料\n",
    "        rows = cur.fetchall()\n",
    "        print(rows)\n",
    "except OperationalError as e:\n",
    "    print(\"連線失敗\")\n",
    "    print(e)\n",
    "\n",
    "conn.close()"
   ]
  }
 ],
 "metadata": {
  "kernelspec": {
   "display_name": "flask",
   "language": "python",
   "name": "python3"
  },
  "language_info": {
   "codemirror_mode": {
    "name": "ipython",
    "version": 3
   },
   "file_extension": ".py",
   "mimetype": "text/x-python",
   "name": "python",
   "nbconvert_exporter": "python",
   "pygments_lexer": "ipython3",
   "version": "3.11.11"
  }
 },
 "nbformat": 4,
 "nbformat_minor": 5
}
