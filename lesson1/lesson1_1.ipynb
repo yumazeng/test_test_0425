{
 "cells": [
  {
   "cell_type": "markdown",
   "id": "66a2a42c",
   "metadata": {},
   "source": [
    "這是我的第一個ipynb"
   ]
  },
  {
   "cell_type": "code",
   "execution_count": 1,
   "id": "c6eb3f50",
   "metadata": {},
   "outputs": [
    {
     "name": "stdout",
     "output_type": "stream",
     "text": [
      "Hello! 這是我的第一個程式碼\n"
     ]
    }
   ],
   "source": [
    "print(\"Hello! 這是我的第一個程式碼\")"
   ]
  },
  {
   "cell_type": "code",
   "execution_count": 1,
   "id": "33174a84",
   "metadata": {},
   "outputs": [
    {
     "name": "stdout",
     "output_type": "stream",
     "text": [
      "5\n"
     ]
    }
   ],
   "source": [
    "n = 5\n",
    "n + 10\n",
    "print(n)"
   ]
  }
 ],
 "metadata": {
  "kernelspec": {
   "display_name": ".venv",
   "language": "python",
   "name": "python3"
  },
  "language_info": {
   "codemirror_mode": {
    "name": "ipython",
    "version": 3
   },
   "file_extension": ".py",
   "mimetype": "text/x-python",
   "name": "python",
   "nbconvert_exporter": "python",
   "pygments_lexer": "ipython3",
   "version": "3.10.8"
  }
 },
 "nbformat": 4,
 "nbformat_minor": 5
}
